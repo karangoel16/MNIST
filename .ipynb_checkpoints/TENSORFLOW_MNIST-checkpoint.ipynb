{
 "cells": [
  {
   "cell_type": "markdown",
   "metadata": {},
   "source": [
    "Reference : \n",
    "https://github.com/uosdmlab/tensorflow-tutorial/blob/master/notebooks/4.MNIST%20with%20CNN.ipynb"
   ]
  },
  {
   "cell_type": "code",
   "execution_count": 1,
   "metadata": {
    "collapsed": true
   },
   "outputs": [],
   "source": [
    "import pandas as pd\n",
    "import tensorflow as tf\n",
    "import numpy as np\n",
    "\n",
    "DROPOUT=0.5\n",
    "\n",
    "TRAINING_ITERATIONS =5000\n",
    "LEARNING_RATE = 1e-4\n",
    "Validation_size=1000\n",
    "BATCH_SIZE=50\n",
    "\n",
    "\n"
   ]
  },
  {
   "cell_type": "code",
   "execution_count": 2,
   "metadata": {
    "collapsed": false
   },
   "outputs": [],
   "source": [
    "data=pd.read_csv('~/Documents/GIT_HUB/MNIST/train.csv')\n"
   ]
  },
  {
   "cell_type": "code",
   "execution_count": 3,
   "metadata": {
    "collapsed": false
   },
   "outputs": [],
   "source": [
    "images=data.iloc[:,1:].values.astype(np.float);\n",
    "images=np.multiply(images,1.0/255.0);\n",
    "#this is done to change the shape of the array\n",
    "image_size=images.shape[1]\n",
    "image_width = image_height = np.ceil(np.sqrt(image_size)).astype(np.uint8)"
   ]
  },
  {
   "cell_type": "code",
   "execution_count": 4,
   "metadata": {
    "collapsed": false
   },
   "outputs": [
    {
     "name": "stdout",
     "output_type": "stream",
     "text": [
      "10\n"
     ]
    }
   ],
   "source": [
    "labels_count=data[[0]].values.ravel()\n",
    "label = np.unique(labels_count).shape[0]\n",
    "print(label);"
   ]
  },
  {
   "cell_type": "code",
   "execution_count": 5,
   "metadata": {
    "collapsed": false
   },
   "outputs": [],
   "source": [
    "def dense_to_one_hot(labels_dense, num_classes):\n",
    "    num_labels = labels_dense.shape[0]\n",
    "    res=np.zeros(shape=(num_labels,num_classes));\n",
    "    for i in range (0,num_labels):\n",
    "        res[i,labels_dense[i]]=1;\n",
    "    return res;\n",
    "\n",
    "hot_label=dense_to_one_hot(labels_count,label);\n",
    "hot_label = hot_label.astype(np.uint8)"
   ]
  },
  {
   "cell_type": "code",
   "execution_count": 6,
   "metadata": {
    "collapsed": false
   },
   "outputs": [],
   "source": [
    "validation_images=images[:Validation_size]\n",
    "validation_labels=hot_label[:Validation_size]\n",
    "\n",
    "train_images=images[Validation_size:]\n",
    "train_labels=hot_label[Validation_size:]"
   ]
  },
  {
   "cell_type": "markdown",
   "metadata": {},
   "source": [
    "Added guassian layer to increase the number of samples , by adding another layer we were able to generate more number of training samples.\n"
   ]
  },
  {
   "cell_type": "code",
   "execution_count": 7,
   "metadata": {
    "collapsed": true
   },
   "outputs": [],
   "source": [
    "# weight initialization\n",
    "def weight_variable(shape):\n",
    "    initial = tf.truncated_normal(shape, stddev=0.1)\n",
    "    return tf.Variable(initial)\n",
    "\n",
    "def bias_variable(shape):\n",
    "    initial = tf.constant(0.1, shape=shape)\n",
    "    return tf.Variable(initial)\n",
    "def conv2d(x, W):\n",
    "    return tf.nn.conv2d(x, W, strides=[1, 1, 1, 1], padding='SAME')\n",
    "def max_pool_2x2(x):\n",
    "    return tf.nn.max_pool(x, ksize=[1, 2, 2, 1], strides=[1, 2, 2, 1], padding='SAME')\n",
    "def gaussian_noise_layer(input_layer, std):\n",
    "    noise = tf.random_normal(shape=tf.shape(input_layer), mean=0.0, stddev=std, dtype=tf.float32) \n",
    "    return input_layer + noise"
   ]
  },
  {
   "cell_type": "code",
   "execution_count": 8,
   "metadata": {
    "collapsed": false
   },
   "outputs": [],
   "source": [
    "epochs_completed = 0\n",
    "index_in_epoch = 0\n",
    "num_examples = train_images.shape[0]\n",
    "\n",
    "# serve data by batches\n",
    "def next_batch(batch_size):\n",
    "    \n",
    "    global train_images\n",
    "    global train_labels\n",
    "    global index_in_epoch\n",
    "    global epochs_completed\n",
    "    \n",
    "    start = index_in_epoch\n",
    "    index_in_epoch += batch_size\n",
    "    \n",
    "    # when all trainig data have been already used, it is reorder randomly    \n",
    "    if index_in_epoch > num_examples:\n",
    "        # finished epoch\n",
    "        epochs_completed += 1\n",
    "        # shuffle the data\n",
    "        perm = np.arange(num_examples)\n",
    "        np.random.shuffle(perm)\n",
    "        train_images = train_images[perm]\n",
    "        train_labels = train_labels[perm]\n",
    "        # start next epoch\n",
    "        start = 0\n",
    "        index_in_epoch = batch_size\n",
    "        assert batch_size <= num_examples\n",
    "    end = index_in_epoch\n",
    "    return train_images[start:end], train_labels[start:end]"
   ]
  },
  {
   "cell_type": "code",
   "execution_count": 9,
   "metadata": {
    "collapsed": false
   },
   "outputs": [],
   "source": [
    "std=tf.placeholder('float');\n",
    "x = gaussian_noise_layer(tf.placeholder('float', shape=[None, image_size]),std);\n",
    "#W=tf.placeholder('float',shape=[images.shape[1],10])\n",
    "y_=tf.placeholder('float',shape=[None,label])"
   ]
  },
  {
   "cell_type": "code",
   "execution_count": 10,
   "metadata": {
    "collapsed": false
   },
   "outputs": [],
   "source": [
    "W_conv1 = weight_variable([5, 5, 1, 32])\n",
    "b_conv1 = bias_variable([32])\n",
    "\n",
    "image = tf.reshape(x, [-1,image_width , image_height,1])\n",
    "\n",
    "graph = tf.get_default_graph()\n",
    "h_conv1 = tf.nn.relu(conv2d(image, W_conv1) + b_conv1)\n",
    "#print (h_conv1.get_shape()) # => (40000, 28, 28, 32)\n",
    "h_pool1 = max_pool_2x2(h_conv1)\n",
    "#print (h_pool1.get_shape()) # => (40000, 14, 14, 32)\n",
    "\n",
    "\n",
    "\n",
    "# second convolutional layer\n",
    "W_conv2 = weight_variable([5, 5, 32, 64])\n",
    "b_conv2 = bias_variable([64])\n",
    "h_conv2 = tf.nn.relu(conv2d(h_pool1, W_conv2) + b_conv2)\n",
    "h_pool2 = max_pool_2x2(h_conv2)\n",
    "\n",
    "\n",
    "\n",
    "W_fc1 = weight_variable([7 * 7 * 64, 1024])\n",
    "b_fc1 = bias_variable([1024])\n",
    "\n",
    "h_pool2_flat = tf.reshape(h_pool2, [-1, 7*7*64])\n",
    "\n",
    "h_fc1 = tf.nn.relu(tf.matmul(h_pool2_flat, W_fc1) + b_fc1)\n",
    "\n",
    "keep_prob = tf.placeholder('float')\n",
    "h_fc1_drop = tf.nn.dropout(h_fc1, keep_prob)\n",
    "\n",
    "\n",
    "#this is the output layer\n",
    "W_fc2 = weight_variable([1024, label])\n",
    "b_fc2 = bias_variable([label])\n",
    "\n",
    "y = tf.nn.softmax(tf.matmul(h_fc1_drop, W_fc2) + b_fc2)\n",
    "cross_entropy = -tf.reduce_sum(y_*tf.log(y))\n",
    "\n",
    "\n",
    "# optimisation function\n",
    "cross_entropy = tf.reduce_mean(tf.nn.softmax_cross_entropy_with_logits(labels=y_, logits=y))\n",
    "train_step = tf.train.AdamOptimizer(LEARNING_RATE).minimize(cross_entropy)\n",
    "correct_prediction = tf.equal(tf.argmax(y,1), tf.argmax(y_,1))\n",
    "accuracy = tf.reduce_mean(tf.cast(correct_prediction, 'float'))\n",
    "predict = tf.argmax(y,1)\n",
    "init = tf.initialize_all_variables()\n",
    "sess = tf.InteractiveSession()\n",
    "saver = tf.train.Saver()"
   ]
  },
  {
   "cell_type": "code",
   "execution_count": 11,
   "metadata": {
    "collapsed": false
   },
   "outputs": [
    {
     "name": "stdout",
     "output_type": "stream",
     "text": [
      "Enter do you wanna load file or run a new modelyes\n",
      "Enter the name of the model to load the tensorflow modelmodel.ckpt\n"
     ]
    }
   ],
   "source": [
    "check=input('Enter do you wanna load file or run a new model');\n",
    "if check=='yes' or check=='YES':\n",
    "    LOAD_FILE=input(\"Enter the name of the model to load the tensorflow model\");\n",
    "    try:\n",
    "        saver = tf.train.import_meta_graph(LOAD_FILE+'.meta');\n",
    "        saver.restore(sess, LOAD_FILE)\n",
    "    except :\n",
    "        print('File Do not exist')\n",
    "else:\n",
    "    sess.run(init)\n",
    "    SAVING_FILE=input(\"Enter the name of the model to save the tensorflow\");\n",
    "# evaluation"
   ]
  },
  {
   "cell_type": "code",
   "execution_count": 12,
   "metadata": {
    "collapsed": false
   },
   "outputs": [
    {
     "name": "stdout",
     "output_type": "stream",
     "text": [
      "0\n",
      "0.988\n",
      "100\n",
      "0.988\n",
      "200\n",
      "0.99\n",
      "300\n",
      "0.99\n",
      "400\n",
      "0.988\n",
      "500\n",
      "0.987\n",
      "600\n",
      "0.989\n",
      "700\n",
      "0.986\n",
      "800\n",
      "0.987\n",
      "900\n",
      "0.989\n",
      "1000\n",
      "0.989\n",
      "1100\n",
      "0.988\n",
      "1200\n",
      "0.989\n",
      "1300\n",
      "0.988\n",
      "1400\n",
      "0.992\n",
      "1500\n",
      "0.991\n",
      "1600\n",
      "0.989\n",
      "1700\n",
      "0.991\n",
      "1800\n",
      "0.988\n",
      "1900\n",
      "0.99\n",
      "2000\n",
      "0.99\n",
      "2100\n",
      "0.992\n",
      "2200\n",
      "0.991\n",
      "2300\n",
      "0.986\n",
      "2400\n",
      "0.988\n",
      "2500\n",
      "0.988\n",
      "2600\n",
      "0.986\n",
      "2700\n",
      "0.986\n",
      "2800\n",
      "0.987\n",
      "2900\n",
      "0.987\n",
      "3000\n",
      "0.989\n",
      "3100\n",
      "0.988\n",
      "3200\n",
      "0.988\n",
      "3300\n",
      "0.989\n",
      "3400\n",
      "0.988\n",
      "3500\n",
      "0.989\n",
      "3600\n",
      "0.989\n",
      "3700\n",
      "0.989\n",
      "3800\n",
      "0.989\n",
      "3900\n",
      "0.989\n",
      "4000\n",
      "0.988\n",
      "4100\n",
      "0.989\n",
      "4200\n",
      "0.989\n",
      "4300\n",
      "0.991\n",
      "4400\n",
      "0.987\n",
      "4500\n",
      "0.988\n",
      "4600\n",
      "0.988\n",
      "4700\n",
      "0.987\n",
      "4800\n",
      "0.99\n",
      "4900\n",
      "0.989\n"
     ]
    }
   ],
   "source": [
    "# visualisation variables\n",
    "train_accuracies = []\n",
    "validation_accuracies = []\n",
    "x_range = []\n",
    "\n",
    "display_step=1\n",
    "\n",
    "for i in range(TRAINING_ITERATIONS):\n",
    "\n",
    "    #get new batch\n",
    "    batch_xs, batch_ys = next_batch(50) \n",
    "    if(i%100==0):\n",
    "        print(i)\n",
    "        #print(sess.run(accuracy,feed_dict={x:batch_xs,y_:batch_ys,keep_prob:1.0}))\n",
    "        if(Validation_size):#this is done to make sure that in case we make validation size 0 , we can simply avoid printing it\n",
    "            print(sess.run(accuracy,feed_dict={x:validation_images,y_:validation_labels,keep_prob:1.0,std:0.0}))\n",
    "    sess.run(train_step, feed_dict={x: batch_xs, y_: batch_ys, keep_prob: DROPOUT,std:2.0})\n",
    "if check=='Yes' or check=='yes':\n",
    "    saver.save(sess,LOAD_FILE);\n",
    "else:\n",
    "    saver.save(sess, SAVING_FILE);#this is where we save our training model which can be used later"
   ]
  },
  {
   "cell_type": "code",
   "execution_count": null,
   "metadata": {
    "collapsed": true
   },
   "outputs": [],
   "source": []
  }
 ],
 "metadata": {
  "anaconda-cloud": {},
  "kernelspec": {
   "display_name": "Python [conda root]",
   "language": "python",
   "name": "conda-root-py"
  },
  "language_info": {
   "codemirror_mode": {
    "name": "ipython",
    "version": 3
   },
   "file_extension": ".py",
   "mimetype": "text/x-python",
   "name": "python",
   "nbconvert_exporter": "python",
   "pygments_lexer": "ipython3",
   "version": "3.5.2"
  }
 },
 "nbformat": 4,
 "nbformat_minor": 1
}
