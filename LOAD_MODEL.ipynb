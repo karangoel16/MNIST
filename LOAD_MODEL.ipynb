{
 "cells": [
  {
   "cell_type": "code",
   "execution_count": 1,
   "metadata": {
    "collapsed": false
   },
   "outputs": [],
   "source": [
    "import tensorflow as tf\n",
    "import numpy as np;\n",
    "import pandas as pd;\n",
    "BATCH_SIZE=50;\n",
    "LEARNING_RATE = 1e-4\n",
    "image_size=784\n",
    "label=10;\n",
    "image_width=28;\n",
    "image_height=28;"
   ]
  },
  {
   "cell_type": "code",
   "execution_count": 2,
   "metadata": {
    "collapsed": true
   },
   "outputs": [],
   "source": [
    "# weight initialization\n",
    "def w_variable(shape):\n",
    "    initial = tf.truncated_normal(shape, stddev=0)\n",
    "    return tf.Variable(initial)\n",
    "def b_variable(shape):\n",
    "    initial = tf.constant(0.1, shape=shape)\n",
    "    return tf.Variable(initial)\n",
    "def conv2d(x, W):\n",
    "    return tf.nn.conv2d(x, W, strides=[1, 1, 1, 1], padding='SAME')\n",
    "def mpool(x):\n",
    "    return tf.nn.max_pool(x, ksize=[1, 2, 2, 1], strides=[1, 2, 2, 1], padding='SAME')\n",
    "def gaussian_noise_layer(input_layer, std):\n",
    "    noise = tf.random_normal(shape=tf.shape(input_layer), mean=0.0, stddev=std, dtype=tf.float32) \n",
    "    return input_layer + noise"
   ]
  },
  {
   "cell_type": "code",
   "execution_count": 3,
   "metadata": {
    "collapsed": false
   },
   "outputs": [],
   "source": [
    "test=pd.read_csv('~/Documents/GIT_HUB/MNIST/test.csv').values\n",
    "test=test.astype(np.float);\n",
    "test=np.multiply(test,1.0/255.0);\n",
    "std=tf.placeholder('float')\n",
    "keep_prob1=tf.placeholder('float')\n",
    "keep_prob=tf.placeholder('float')\n",
    "x = tf.placeholder('float', shape=[None, image_size]);\n",
    "#W=tf.placeholder('float',shape=[images.shape[1],10])\n",
    "y_=tf.placeholder('float',shape=[None,label])\n",
    "W_conv1 = w_variable([5, 5, 1, 32])\n",
    "b_conv1 = b_variable([32])\n",
    "image = tf.reshape(x, [-1,image_width , image_height,1])\n",
    "graph = tf.get_default_graph()\n",
    "h_conv1 = tf.nn.relu(conv2d(image, W_conv1) + b_conv1)\n",
    "h_pool1 = mpool(h_conv1)\n",
    "#h_pool1 = tf.nn.dropout(h_pool1,keep_prob1);\n",
    "# second convolutional layer\n",
    "W_conv2 = w_variable([5, 5, 32, 64])\n",
    "b_conv2 = b_variable([64])\n",
    "h_conv2 = tf.nn.relu(conv2d(h_pool1, W_conv2) + b_conv2)\n",
    "h_pool2 = mpool(h_conv2)\n",
    "W_conv3=w_variable([1,1,64,64])\n",
    "b_conv3=b_variable([64])\n",
    "h_pool2=tf.nn.relu(conv2d(h_pool2,W_conv3)+b_conv3);\n",
    "#h_pool2 = tf.nn.dropout(h_pool2,keep_prob1);\n",
    "W_fc1 = w_variable([7 * 7 * 64, 1024])\n",
    "b_fc1 = b_variable([1024])\n",
    "h_pool2_flat = tf.reshape(h_pool2, [-1, 7*7*64])\n",
    "h_fc1 = tf.nn.relu(tf.matmul(h_pool2_flat, W_fc1) + b_fc1)\n",
    "h_fc1_drop = tf.nn.dropout(h_fc1, keep_prob)\n",
    "#this is the output layer\n",
    "W_fc2 = w_variable([1024, label])\n",
    "b_fc2 = b_variable([label])\n",
    "y = tf.nn.softmax(tf.matmul(h_fc1_drop, W_fc2) + b_fc2)\n",
    "# optimisation function\n",
    "cross_entropy = tf.reduce_mean(tf.nn.softmax_cross_entropy_with_logits(labels=y_, logits=y))\n",
    "train_step = tf.train.AdamOptimizer(LEARNING_RATE).minimize(cross_entropy)\n",
    "correct_prediction = tf.equal(tf.argmax(y,1), tf.argmax(y_,1))\n",
    "accuracy = tf.reduce_mean(tf.cast(correct_prediction, 'float'))\n",
    "predict = tf.argmax(y,1)\n",
    "init = tf.initialize_all_variables()\n",
    "sess = tf.InteractiveSession()\n",
    "saver = tf.train.Saver()"
   ]
  },
  {
   "cell_type": "code",
   "execution_count": 4,
   "metadata": {
    "collapsed": false
   },
   "outputs": [
    {
     "name": "stderr",
     "output_type": "stream",
     "text": [
      "Exception ignored in: <bound method BaseSession.__del__ of <tensorflow.python.client.session.InteractiveSession object at 0x7f96e9e2ecc0>>\n",
      "Traceback (most recent call last):\n",
      "  File \"/home/karan/anaconda3/lib/python3.5/site-packages/tensorflow/python/client/session.py\", line 178, in __del__\n",
      "    self.close()\n",
      "  File \"/home/karan/anaconda3/lib/python3.5/site-packages/tensorflow/python/client/session.py\", line 1028, in close\n",
      "    self._default_session.__exit__(None, None, None)\n",
      "  File \"/home/karan/anaconda3/lib/python3.5/contextlib.py\", line 66, in __exit__\n",
      "    next(self.gen)\n",
      "  File \"/home/karan/anaconda3/lib/python3.5/site-packages/tensorflow/python/framework/ops.py\", line 3529, in get_controller\n",
      "    % type(default))\n",
      "AssertionError: Nesting violated for default stack of <class 'weakref'> objects\n"
     ]
    },
    {
     "name": "stdout",
     "output_type": "stream",
     "text": [
      "Enter the name of the model to load the tensorflow modelmodel1.ckpt\n",
      "Enter the name of csv file that you want to savetest1.hu\n",
      "1.0\n"
     ]
    }
   ],
   "source": [
    "try:\n",
    "    with tf.Session() as sess:\n",
    "        LOAD_FILE=input(\"Enter the name of the model to load the tensorflow model\");\n",
    "        SAVE_FILE=input(\"Enter the name of csv file that you want to save\");\n",
    "        saver = tf.train.import_meta_graph(LOAD_FILE+'.meta');\n",
    "        saver.restore(sess,LOAD_FILE)\n",
    "        predicted_values=np.zeros(shape=(test.shape[0]));\n",
    "        for i in range(0,test.shape[0]//BATCH_SIZE):\n",
    "            predicted_values[i*(BATCH_SIZE):(i+1)*BATCH_SIZE]=predict.eval(feed_dict={x:test[(i*BATCH_SIZE):(i+1)*BATCH_SIZE],keep_prob:1.0});\n",
    "        print(predicted_values[10])\n",
    "    np.savetxt(SAVE_FILE+\".csv\", \n",
    "               np.c_[range(1,len(test)+1),predicted_values], \n",
    "               delimiter=',', \n",
    "               header = 'ImageId,Label', \n",
    "               comments = '', \n",
    "               fmt='%d')\n",
    "except OSError as e:\n",
    "    print('FILE DO NOT EXIST')"
   ]
  },
  {
   "cell_type": "code",
   "execution_count": null,
   "metadata": {
    "collapsed": false
   },
   "outputs": [],
   "source": []
  },
  {
   "cell_type": "code",
   "execution_count": null,
   "metadata": {
    "collapsed": true
   },
   "outputs": [],
   "source": []
  }
 ],
 "metadata": {
  "anaconda-cloud": {},
  "kernelspec": {
   "display_name": "Python [default]",
   "language": "python",
   "name": "python3"
  },
  "language_info": {
   "codemirror_mode": {
    "name": "ipython",
    "version": 3
   },
   "file_extension": ".py",
   "mimetype": "text/x-python",
   "name": "python",
   "nbconvert_exporter": "python",
   "pygments_lexer": "ipython3",
   "version": "3.5.2"
  }
 },
 "nbformat": 4,
 "nbformat_minor": 1
}
